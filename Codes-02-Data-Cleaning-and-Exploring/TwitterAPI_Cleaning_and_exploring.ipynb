{
 "cells": [
  {
   "cell_type": "code",
   "execution_count": 80,
   "metadata": {},
   "outputs": [],
   "source": [
    "import pandas as pd\n",
    "import os\n",
    "import time\n",
    "import requests\n",
    "import json\n",
    "import csv\n",
    "from tqdm import tqdm\n",
    "import matplotlib.pyplot as plt\n",
    "\n",
    "import tweepy\n",
    "\n",
    "import requests\n",
    "import pandas as pd\n",
    "import os\n",
    "\n",
    "df_tweets = pd.read_csv('../Part 2/raw_data')"
   ]
  },
  {
   "cell_type": "code",
   "execution_count": 81,
   "metadata": {},
   "outputs": [
    {
     "data": {
      "text/html": [
       "<div>\n",
       "<style scoped>\n",
       "    .dataframe tbody tr th:only-of-type {\n",
       "        vertical-align: middle;\n",
       "    }\n",
       "\n",
       "    .dataframe tbody tr th {\n",
       "        vertical-align: top;\n",
       "    }\n",
       "\n",
       "    .dataframe thead th {\n",
       "        text-align: right;\n",
       "    }\n",
       "</style>\n",
       "<table border=\"1\" class=\"dataframe\">\n",
       "  <thead>\n",
       "    <tr style=\"text-align: right;\">\n",
       "      <th></th>\n",
       "      <th>Unnamed: 0</th>\n",
       "      <th>author_id</th>\n",
       "      <th>text</th>\n",
       "      <th>created_at</th>\n",
       "      <th>lang</th>\n",
       "    </tr>\n",
       "  </thead>\n",
       "  <tbody>\n",
       "    <tr>\n",
       "      <th>0</th>\n",
       "      <td>0</td>\n",
       "      <td>1571666106166743042</td>\n",
       "      <td>@What_If_Truth Lol</td>\n",
       "      <td>2022-09-27 02:11:56+00:00</td>\n",
       "      <td>und</td>\n",
       "    </tr>\n",
       "    <tr>\n",
       "      <th>1</th>\n",
       "      <td>1</td>\n",
       "      <td>1518454387026366465</td>\n",
       "      <td>#Paris World Challenge Cup: US shines in city ...</td>\n",
       "      <td>2022-09-27 02:11:56+00:00</td>\n",
       "      <td>en</td>\n",
       "    </tr>\n",
       "    <tr>\n",
       "      <th>2</th>\n",
       "      <td>2</td>\n",
       "      <td>342321559</td>\n",
       "      <td>@KBBasement @RexChapman I guarantee his team (...</td>\n",
       "      <td>2022-09-27 02:11:56+00:00</td>\n",
       "      <td>en</td>\n",
       "    </tr>\n",
       "    <tr>\n",
       "      <th>3</th>\n",
       "      <td>3</td>\n",
       "      <td>933356815</td>\n",
       "      <td>Check out this listing I just added to my #Pos...</td>\n",
       "      <td>2022-09-27 02:11:56+00:00</td>\n",
       "      <td>en</td>\n",
       "    </tr>\n",
       "    <tr>\n",
       "      <th>4</th>\n",
       "      <td>4</td>\n",
       "      <td>1551710898275946506</td>\n",
       "      <td>RT @CuzzyNFT: Civitas Familia is the first NFT...</td>\n",
       "      <td>2022-09-27 02:11:56+00:00</td>\n",
       "      <td>en</td>\n",
       "    </tr>\n",
       "  </tbody>\n",
       "</table>\n",
       "</div>"
      ],
      "text/plain": [
       "   Unnamed: 0            author_id  \\\n",
       "0           0  1571666106166743042   \n",
       "1           1  1518454387026366465   \n",
       "2           2            342321559   \n",
       "3           3            933356815   \n",
       "4           4  1551710898275946506   \n",
       "\n",
       "                                                text  \\\n",
       "0                                 @What_If_Truth Lol   \n",
       "1  #Paris World Challenge Cup: US shines in city ...   \n",
       "2  @KBBasement @RexChapman I guarantee his team (...   \n",
       "3  Check out this listing I just added to my #Pos...   \n",
       "4  RT @CuzzyNFT: Civitas Familia is the first NFT...   \n",
       "\n",
       "                  created_at lang  \n",
       "0  2022-09-27 02:11:56+00:00  und  \n",
       "1  2022-09-27 02:11:56+00:00   en  \n",
       "2  2022-09-27 02:11:56+00:00   en  \n",
       "3  2022-09-27 02:11:56+00:00   en  \n",
       "4  2022-09-27 02:11:56+00:00   en  "
      ]
     },
     "execution_count": 81,
     "metadata": {},
     "output_type": "execute_result"
    }
   ],
   "source": [
    "df_tweets.head(5)"
   ]
  },
  {
   "cell_type": "code",
   "execution_count": 82,
   "metadata": {},
   "outputs": [
    {
     "data": {
      "text/plain": [
       "(10000, 5)"
      ]
     },
     "execution_count": 82,
     "metadata": {},
     "output_type": "execute_result"
    }
   ],
   "source": [
    "df_tweets.shape"
   ]
  },
  {
   "cell_type": "code",
   "execution_count": 83,
   "metadata": {},
   "outputs": [
    {
     "data": {
      "text/plain": [
       "Index(['Unnamed: 0', 'author_id', 'text', 'created_at', 'lang'], dtype='object')"
      ]
     },
     "execution_count": 83,
     "metadata": {},
     "output_type": "execute_result"
    }
   ],
   "source": [
    "df_tweets.columns"
   ]
  },
  {
   "cell_type": "code",
   "execution_count": 84,
   "metadata": {},
   "outputs": [
    {
     "data": {
      "text/plain": [
       "Unnamed: 0    0\n",
       "author_id     0\n",
       "text          0\n",
       "created_at    0\n",
       "lang          0\n",
       "dtype: int64"
      ]
     },
     "execution_count": 84,
     "metadata": {},
     "output_type": "execute_result"
    }
   ],
   "source": [
    "#Checking for NaN values present in data\n",
    "df_tweets.isna().sum()"
   ]
  },
  {
   "cell_type": "code",
   "execution_count": 86,
   "metadata": {},
   "outputs": [],
   "source": [
    "df_clean = pd.DataFrame(df_tweets)\n",
    "df_clean.to_csv(\"../Part 2/clean_data.csv\")"
   ]
  },
  {
   "cell_type": "code",
   "execution_count": 85,
   "metadata": {},
   "outputs": [
    {
     "data": {
      "text/plain": [
       "en     8642\n",
       "es      367\n",
       "und     269\n",
       "ja      269\n",
       "in       66\n",
       "pt       60\n",
       "ht       42\n",
       "tl       40\n",
       "qst      40\n",
       "ko       31\n",
       "ar       29\n",
       "th       24\n",
       "fr       18\n",
       "et       14\n",
       "hi       14\n",
       "ca       13\n",
       "qme       8\n",
       "qam       8\n",
       "pl        6\n",
       "de        6\n",
       "vi        4\n",
       "zxx       4\n",
       "zh        4\n",
       "te        3\n",
       "it        3\n",
       "no        2\n",
       "ta        2\n",
       "tr        2\n",
       "nl        1\n",
       "ml        1\n",
       "fa        1\n",
       "eu        1\n",
       "hu        1\n",
       "cs        1\n",
       "is        1\n",
       "ro        1\n",
       "lt        1\n",
       "sv        1\n",
       "Name: lang, dtype: int64"
      ]
     },
     "execution_count": 85,
     "metadata": {},
     "output_type": "execute_result"
    }
   ],
   "source": [
    "df_tweets['lang'].value_counts()"
   ]
  },
  {
   "cell_type": "code",
   "execution_count": 87,
   "metadata": {},
   "outputs": [
    {
     "data": {
      "text/html": [
       "<div>\n",
       "<style scoped>\n",
       "    .dataframe tbody tr th:only-of-type {\n",
       "        vertical-align: middle;\n",
       "    }\n",
       "\n",
       "    .dataframe tbody tr th {\n",
       "        vertical-align: top;\n",
       "    }\n",
       "\n",
       "    .dataframe thead th {\n",
       "        text-align: right;\n",
       "    }\n",
       "</style>\n",
       "<table border=\"1\" class=\"dataframe\">\n",
       "  <thead>\n",
       "    <tr style=\"text-align: right;\">\n",
       "      <th></th>\n",
       "      <th>index</th>\n",
       "      <th>lang</th>\n",
       "    </tr>\n",
       "  </thead>\n",
       "  <tbody>\n",
       "    <tr>\n",
       "      <th>0</th>\n",
       "      <td>English</td>\n",
       "      <td>8642</td>\n",
       "    </tr>\n",
       "    <tr>\n",
       "      <th>1</th>\n",
       "      <td>Estonian</td>\n",
       "      <td>367</td>\n",
       "    </tr>\n",
       "    <tr>\n",
       "      <th>2</th>\n",
       "      <td>Undetermined</td>\n",
       "      <td>269</td>\n",
       "    </tr>\n",
       "    <tr>\n",
       "      <th>3</th>\n",
       "      <td>Japanese</td>\n",
       "      <td>269</td>\n",
       "    </tr>\n",
       "    <tr>\n",
       "      <th>4</th>\n",
       "      <td>Indonesian</td>\n",
       "      <td>66</td>\n",
       "    </tr>\n",
       "  </tbody>\n",
       "</table>\n",
       "</div>"
      ],
      "text/plain": [
       "          index  lang\n",
       "0       English  8642\n",
       "1      Estonian   367\n",
       "2  Undetermined   269\n",
       "3      Japanese   269\n",
       "4    Indonesian    66"
      ]
     },
     "execution_count": 87,
     "metadata": {},
     "output_type": "execute_result"
    }
   ],
   "source": [
    "## convert language code to name\n",
    "reference_lang = {'en' : 'English', 'ja' : \"Japanese\", \"pt\" : \"Portuguese\", \"es\" : \"Estonian\", \"hi\" : \"Hindi\", 'in' : 'Indonesian',\n",
    "                  \"und\" : \"Undetermined\", \"fr\" : \"French\", \"fa\" : 'Persian', 'ko' : 'Korean', 'th' : 'Thai', 'ar' : 'Arabic'}\n",
    "df_tweets['lang'] = df_tweets['lang'].replace(reference_lang)\n",
    "\n",
    "## find top 5 lanuages count by sort dataframe\n",
    "lang_table = df_tweets['lang'].value_counts().reset_index().head()\n",
    "lang_table"
   ]
  },
  {
   "cell_type": "code",
   "execution_count": 88,
   "metadata": {},
   "outputs": [
    {
     "data": {
      "image/png": "[encoded data removed]",
      "text/plain": [
       "<Figure size 800x600 with 1 Axes>"
      ]
     },
     "metadata": {},
     "output_type": "display_data"
    }
   ],
   "source": [
    "plt.figure(figsize = (8, 6))\n",
    "plt.bar(lang_table['index'], lang_table['lang'], color = 'blue')\n",
    "plt.title(f\"5 most represented Languages for recent {10000} Tweets\", fontweight = 'bold', fontsize = 16)\n",
    "plt.ylabel(\"Tweets Count\", fontweight = 'bold', fontsize = 12, color='blue')\n",
    "plt.xlabel(\"Language\", fontweight = 'bold', fontsize = 12, color='blue')\n",
    "plt.savefig(\"Language.jpg\")\n",
    "plt.show()"
   ]
  },
  {
   "cell_type": "code",
   "execution_count": 90,
   "metadata": {},
   "outputs": [
    {
     "data": {
      "text/plain": [
       "{'Riot': 6,\n",
       " 'LOL': 297,\n",
       " 'S12': 1,\n",
       " 'World Championship': 9,\n",
       " 'team': 2889,\n",
       " 'prediction win': 0,\n",
       " 'win rate': 2,\n",
       " 'KDA': 15,\n",
       " 'gold': 283,\n",
       " 'rank': 141,\n",
       " 'player': 671}"
      ]
     },
     "execution_count": 90,
     "metadata": {},
     "output_type": "execute_result"
    }
   ],
   "source": [
    "keyword_list = ['Riot','LOL','S12','World Championship','team','prediction win','win rate','KDA','gold','rank','player']\n",
    "\n",
    "result = {}\n",
    "for keyword in keyword_list:\n",
    "    cnt = 0\n",
    "    for text in df_tweets['text'].values:\n",
    "        if keyword in text:\n",
    "            cnt += 1\n",
    "    result[keyword] = cnt\n",
    "result"
   ]
  },
  {
   "cell_type": "code",
   "execution_count": 91,
   "metadata": {},
   "outputs": [],
   "source": [
    "df_keywords = pd.DataFrame(result.values(), index=result.keys()).reset_index()\n",
    "df_keywords.columns = ['Keyword', 'Count']\n",
    "df_keywords = df_keywords.sort_values(by='Count', ascending = False)"
   ]
  },
  {
   "cell_type": "code",
   "execution_count": 92,
   "metadata": {},
   "outputs": [
    {
     "data": {
      "image/png": "[encoded data removed]",
      "text/plain": [
       "<Figure size 800x600 with 1 Axes>"
      ]
     },
     "metadata": {},
     "output_type": "display_data"
    }
   ],
   "source": [
    "plt.figure(figsize = (8, 6))\n",
    "df_keywords = df_keywords.head()\n",
    "plt.barh(df_keywords['Keyword'], df_keywords['Count'],  color = ['blue', 'green', 'pink', 'yellow', 'gold'])\n",
    "plt.title(f\"5 frequent Keyword for recent {10000} Tweets\", fontweight = 'bold', fontsize = 16)\n",
    "plt.ylabel(\"Keyword\", fontweight = 'bold', fontsize = 12, color='blue')\n",
    "plt.xlabel(\"Tweets Count\", fontweight = 'bold', fontsize = 12, color='blue')\n",
    "plt.yticks(color='blue', fontweight = 'bold')\n",
    "plt.savefig(\"Keyword.jpg\")\n",
    "plt.show()"
   ]
  },
  {
   "cell_type": "code",
   "execution_count": 93,
   "metadata": {},
   "outputs": [
    {
     "data": {
      "text/html": [
       "<div>\n",
       "<style scoped>\n",
       "    .dataframe tbody tr th:only-of-type {\n",
       "        vertical-align: middle;\n",
       "    }\n",
       "\n",
       "    .dataframe tbody tr th {\n",
       "        vertical-align: top;\n",
       "    }\n",
       "\n",
       "    .dataframe thead th {\n",
       "        text-align: right;\n",
       "    }\n",
       "</style>\n",
       "<table border=\"1\" class=\"dataframe\">\n",
       "  <thead>\n",
       "    <tr style=\"text-align: right;\">\n",
       "      <th></th>\n",
       "      <th>Keyword</th>\n",
       "      <th>Count</th>\n",
       "    </tr>\n",
       "  </thead>\n",
       "  <tbody>\n",
       "    <tr>\n",
       "      <th>4</th>\n",
       "      <td>team</td>\n",
       "      <td>2889</td>\n",
       "    </tr>\n",
       "    <tr>\n",
       "      <th>10</th>\n",
       "      <td>player</td>\n",
       "      <td>671</td>\n",
       "    </tr>\n",
       "    <tr>\n",
       "      <th>1</th>\n",
       "      <td>LOL</td>\n",
       "      <td>297</td>\n",
       "    </tr>\n",
       "    <tr>\n",
       "      <th>8</th>\n",
       "      <td>gold</td>\n",
       "      <td>283</td>\n",
       "    </tr>\n",
       "    <tr>\n",
       "      <th>9</th>\n",
       "      <td>rank</td>\n",
       "      <td>141</td>\n",
       "    </tr>\n",
       "    <tr>\n",
       "      <th>7</th>\n",
       "      <td>KDA</td>\n",
       "      <td>15</td>\n",
       "    </tr>\n",
       "    <tr>\n",
       "      <th>3</th>\n",
       "      <td>World Championship</td>\n",
       "      <td>9</td>\n",
       "    </tr>\n",
       "    <tr>\n",
       "      <th>0</th>\n",
       "      <td>Riot</td>\n",
       "      <td>6</td>\n",
       "    </tr>\n",
       "    <tr>\n",
       "      <th>6</th>\n",
       "      <td>win rate</td>\n",
       "      <td>2</td>\n",
       "    </tr>\n",
       "    <tr>\n",
       "      <th>2</th>\n",
       "      <td>S12</td>\n",
       "      <td>1</td>\n",
       "    </tr>\n",
       "    <tr>\n",
       "      <th>5</th>\n",
       "      <td>prediction win</td>\n",
       "      <td>0</td>\n",
       "    </tr>\n",
       "  </tbody>\n",
       "</table>\n",
       "</div>"
      ],
      "text/plain": [
       "               Keyword  Count\n",
       "4                 team   2889\n",
       "10              player    671\n",
       "1                  LOL    297\n",
       "8                 gold    283\n",
       "9                 rank    141\n",
       "7                  KDA     15\n",
       "3   World Championship      9\n",
       "0                 Riot      6\n",
       "6             win rate      2\n",
       "2                  S12      1\n",
       "5       prediction win      0"
      ]
     },
     "execution_count": 93,
     "metadata": {},
     "output_type": "execute_result"
    }
   ],
   "source": [
    "df_keywords = pd.DataFrame(result.values(), index=result.keys()).reset_index()\n",
    "df_keywords.columns = ['Keyword', 'Count']\n",
    "df_keywords = df_keywords.sort_values(by='Count', ascending = False)\n",
    "df_keywords"
   ]
  },
  {
   "cell_type": "code",
   "execution_count": 94,
   "metadata": {},
   "outputs": [
    {
     "data": {
      "text/plain": [
       "{'EDG': 22, 'DK': 106, 'RNG': 2, 'T1': 54, 'TES': 373, 'GEN': 267}"
      ]
     },
     "execution_count": 94,
     "metadata": {},
     "output_type": "execute_result"
    }
   ],
   "source": [
    "team_list = ['EDG', 'DK', 'RNG', 'T1', 'TES', 'GEN']\n",
    "results_nation = {}\n",
    "for team in team_list:\n",
    "    cnt = 0\n",
    "    for idx in range(len(df_tweets)):\n",
    "        if team.lower() in df_tweets['text'][idx].lower():\n",
    "            cnt += 1\n",
    "    results_nation[team] = cnt\n",
    "results_nation"
   ]
  },
  {
   "cell_type": "code",
   "execution_count": 95,
   "metadata": {},
   "outputs": [],
   "source": [
    "df_team = pd.DataFrame(results_nation.values(), index=results_nation.keys()).reset_index()\n",
    "df_team.columns = ['Team', 'Support']\n",
    "df_team = df_team.sort_values(by='Support', ascending = False)"
   ]
  },
  {
   "cell_type": "code",
   "execution_count": 96,
   "metadata": {},
   "outputs": [
    {
     "data": {
      "image/png": "[encoded data removed]",
      "text/plain": [
       "<Figure size 800x600 with 1 Axes>"
      ]
     },
     "metadata": {},
     "output_type": "display_data"
    }
   ],
   "source": [
    "plt.figure(figsize = (8, 6))\n",
    "plt.bar(df_team['Team'], df_team['Support'], color = ['gold', 'blue', 'red', 'yellow', 'green', 'black'])\n",
    "plt.title(f\"6 teams that supported for recent {10000} Tweets\", fontweight = 'bold', fontsize = 16)\n",
    "plt.ylabel(\"Supported Count\", fontweight = 'bold', fontsize = 12, color='blue')\n",
    "plt.xlabel(\"Team\", fontweight = 'bold', fontsize = 12, color='blue')\n",
    "plt.xticks(color='blue', fontweight='bold')\n",
    "plt.savefig(\"Team.jpg\")\n",
    "plt.show()"
   ]
  },
  {
   "cell_type": "code",
   "execution_count": 97,
   "metadata": {},
   "outputs": [
    {
     "data": {
      "text/html": [
       "<div>\n",
       "<style scoped>\n",
       "    .dataframe tbody tr th:only-of-type {\n",
       "        vertical-align: middle;\n",
       "    }\n",
       "\n",
       "    .dataframe tbody tr th {\n",
       "        vertical-align: top;\n",
       "    }\n",
       "\n",
       "    .dataframe thead th {\n",
       "        text-align: right;\n",
       "    }\n",
       "</style>\n",
       "<table border=\"1\" class=\"dataframe\">\n",
       "  <thead>\n",
       "    <tr style=\"text-align: right;\">\n",
       "      <th></th>\n",
       "      <th>Team</th>\n",
       "      <th>Support</th>\n",
       "    </tr>\n",
       "  </thead>\n",
       "  <tbody>\n",
       "    <tr>\n",
       "      <th>4</th>\n",
       "      <td>TES</td>\n",
       "      <td>373</td>\n",
       "    </tr>\n",
       "    <tr>\n",
       "      <th>5</th>\n",
       "      <td>GEN</td>\n",
       "      <td>267</td>\n",
       "    </tr>\n",
       "    <tr>\n",
       "      <th>1</th>\n",
       "      <td>DK</td>\n",
       "      <td>106</td>\n",
       "    </tr>\n",
       "    <tr>\n",
       "      <th>3</th>\n",
       "      <td>T1</td>\n",
       "      <td>54</td>\n",
       "    </tr>\n",
       "    <tr>\n",
       "      <th>0</th>\n",
       "      <td>EDG</td>\n",
       "      <td>22</td>\n",
       "    </tr>\n",
       "    <tr>\n",
       "      <th>2</th>\n",
       "      <td>RNG</td>\n",
       "      <td>2</td>\n",
       "    </tr>\n",
       "  </tbody>\n",
       "</table>\n",
       "</div>"
      ],
      "text/plain": [
       "  Team  Support\n",
       "4  TES      373\n",
       "5  GEN      267\n",
       "1   DK      106\n",
       "3   T1       54\n",
       "0  EDG       22\n",
       "2  RNG        2"
      ]
     },
     "execution_count": 97,
     "metadata": {},
     "output_type": "execute_result"
    }
   ],
   "source": [
    "df_team"
   ]
  }
 ],
 "metadata": {
  "kernelspec": {
   "display_name": "Python 3.10.4 ('ANLY501')",
   "language": "python",
   "name": "python3"
  },
  "language_info": {
   "codemirror_mode": {
    "name": "ipython",
    "version": 3
   },
   "file_extension": ".py",
   "mimetype": "text/x-python",
   "name": "python",
   "nbconvert_exporter": "python",
   "pygments_lexer": "ipython3",
   "version": "3.10.4"
  },
  "orig_nbformat": 4,
  "vscode": {
   "interpreter": {
    "hash": "1528cb794c2ea60722ec750617a38b57d173476299c9bee806222619cbd1865e"
   }
  }
 },
 "nbformat": 4,
 "nbformat_minor": 2
}
