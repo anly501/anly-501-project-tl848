{
 "cells": [
  {
   "cell_type": "code",
   "execution_count": 108,
   "metadata": {},
   "outputs": [],
   "source": [
    "import pandas as pd\n",
    "import os\n",
    "import time\n",
    "import requests\n",
    "import json\n",
    "import csv\n",
    "from tqdm import tqdm\n",
    "import matplotlib.pyplot as plt\n",
    "\n",
    "import tweepy\n",
    "\n",
    "import requests\n",
    "import pandas as pd\n",
    "import os\n",
    "\n",
    "api = pd.read_csv(\"../Twitter_API.txt\")"
   ]
  },
  {
   "cell_type": "code",
   "execution_count": 109,
   "metadata": {},
   "outputs": [],
   "source": [
    "consumer_key = api[api[\"Type\"]==\"API Key\"][\"Key\"].to_string()[5:]\n",
    "consumer_secret = api[api[\"Type\"]==\"API Key Secret\"][\"Key\"].to_string()[5:]\n",
    "access_token = api[api[\"Type\"]==\"Access Token\"][\"Key\"].to_string()[5:]\n",
    "access_token_secret = api[api[\"Type\"]==\"Access Token Secret\"][\"Key\"].to_string()[5:]\n",
    "bearer_token = api[api[\"Type\"]==\"Bearer Token\"][\"Key\"].to_string()[5:]"
   ]
  },
  {
   "cell_type": "code",
   "execution_count": 110,
   "metadata": {},
   "outputs": [
    {
     "name": "stdout",
     "output_type": "stream",
     "text": [
      "\n"
     ]
    }
   ],
   "source": [
    "auth = tweepy.OAuthHandler(consumer_key, consumer_secret)\n",
    "auth.set_access_token(access_token, access_token_secret)\n",
    "\n",
    "api = tweepy.API(auth)\n",
    "headers = {\"Authorization\": \"Bearer {}\".format(bearer_token)}\n",
    "print()"
   ]
  },
  {
   "cell_type": "code",
   "execution_count": 111,
   "metadata": {},
   "outputs": [],
   "source": [
    "import configparser\n",
    "config = configparser.RawConfigParser()\n",
    "config.read('../config.ini')\n",
    "bearer_token = config['twitter']['bearer_token']"
   ]
  },
  {
   "cell_type": "code",
   "execution_count": 112,
   "metadata": {},
   "outputs": [],
   "source": [
    "def search_twitter(query, total_number_tweets_to_get, tweet_fields, bearer_token = bearer_token):\n",
    "    client = tweepy.Client(bearer_token=bearer_token)\n",
    "    #query = \"League of Legends\"\n",
    "    tweets = tweepy.Paginator(client.search_recent_tweets, query=query,\n",
    "            tweet_fields=tweet_fields, max_results=100).flatten(limit=total_number_tweets_to_get)\n",
    "    searched_data = []\n",
    "    for tweet in tweets:\n",
    "        row = [tweet.author_id, tweet.text, tweet.created_at, tweet.lang]\n",
    "        searched_data.append(row)\n",
    "\n",
    "    df_tweets = pd.DataFrame(searched_data, columns = ['author_id','text','created_at','lang'])\n",
    "    return df_tweets"
   ]
  },
  {
   "cell_type": "code",
   "execution_count": 113,
   "metadata": {},
   "outputs": [
    {
     "data": {
      "text/plain": [
       "'League of LegendsRiot OR LOL OR S12 OR World Championship OR team OR prediction win OR win rate OR KDA OR gold OR rank OR player'"
      ]
     },
     "execution_count": 113,
     "metadata": {},
     "output_type": "execute_result"
    }
   ],
   "source": [
    "keyword_list = ['Riot','LOL','S12','World Championship','team','prediction win','win rate','KDA','gold','rank','player']\n",
    "\n",
    "query = \"League of Legends\"\n",
    "for val in keyword_list:\n",
    "    query += val + \" OR \"\n",
    "query = query[:-3].strip()\n",
    "query"
   ]
  },
  {
   "cell_type": "code",
   "execution_count": 114,
   "metadata": {},
   "outputs": [
    {
     "data": {
      "text/html": [
       "<div>\n",
       "<style scoped>\n",
       "    .dataframe tbody tr th:only-of-type {\n",
       "        vertical-align: middle;\n",
       "    }\n",
       "\n",
       "    .dataframe tbody tr th {\n",
       "        vertical-align: top;\n",
       "    }\n",
       "\n",
       "    .dataframe thead th {\n",
       "        text-align: right;\n",
       "    }\n",
       "</style>\n",
       "<table border=\"1\" class=\"dataframe\">\n",
       "  <thead>\n",
       "    <tr style=\"text-align: right;\">\n",
       "      <th></th>\n",
       "      <th>author_id</th>\n",
       "      <th>text</th>\n",
       "      <th>created_at</th>\n",
       "      <th>lang</th>\n",
       "    </tr>\n",
       "  </thead>\n",
       "  <tbody>\n",
       "    <tr>\n",
       "      <th>0</th>\n",
       "      <td>1571666106166743042</td>\n",
       "      <td>@What_If_Truth Lol</td>\n",
       "      <td>2022-09-27 02:11:56+00:00</td>\n",
       "      <td>und</td>\n",
       "    </tr>\n",
       "    <tr>\n",
       "      <th>1</th>\n",
       "      <td>1518454387026366465</td>\n",
       "      <td>#Paris World Challenge Cup: US shines in city ...</td>\n",
       "      <td>2022-09-27 02:11:56+00:00</td>\n",
       "      <td>en</td>\n",
       "    </tr>\n",
       "    <tr>\n",
       "      <th>2</th>\n",
       "      <td>342321559</td>\n",
       "      <td>@KBBasement @RexChapman I guarantee his team (...</td>\n",
       "      <td>2022-09-27 02:11:56+00:00</td>\n",
       "      <td>en</td>\n",
       "    </tr>\n",
       "    <tr>\n",
       "      <th>3</th>\n",
       "      <td>933356815</td>\n",
       "      <td>Check out this listing I just added to my #Pos...</td>\n",
       "      <td>2022-09-27 02:11:56+00:00</td>\n",
       "      <td>en</td>\n",
       "    </tr>\n",
       "    <tr>\n",
       "      <th>4</th>\n",
       "      <td>1551710898275946506</td>\n",
       "      <td>RT @CuzzyNFT: Civitas Familia is the first NFT...</td>\n",
       "      <td>2022-09-27 02:11:56+00:00</td>\n",
       "      <td>en</td>\n",
       "    </tr>\n",
       "    <tr>\n",
       "      <th>...</th>\n",
       "      <td>...</td>\n",
       "      <td>...</td>\n",
       "      <td>...</td>\n",
       "      <td>...</td>\n",
       "    </tr>\n",
       "    <tr>\n",
       "      <th>9995</th>\n",
       "      <td>1027267079639101440</td>\n",
       "      <td>@SupaStarr_ I mean….🥴 idk how this tattoo woul...</td>\n",
       "      <td>2022-09-27 02:06:34+00:00</td>\n",
       "      <td>en</td>\n",
       "    </tr>\n",
       "    <tr>\n",
       "      <th>9996</th>\n",
       "      <td>20875566</td>\n",
       "      <td>Remember, you purchase the parts for the car, ...</td>\n",
       "      <td>2022-09-27 02:06:34+00:00</td>\n",
       "      <td>en</td>\n",
       "    </tr>\n",
       "    <tr>\n",
       "      <th>9997</th>\n",
       "      <td>1007718239298818054</td>\n",
       "      <td>RT @andrewspellman_: Big news coming from form...</td>\n",
       "      <td>2022-09-27 02:06:34+00:00</td>\n",
       "      <td>en</td>\n",
       "    </tr>\n",
       "    <tr>\n",
       "      <th>9998</th>\n",
       "      <td>1967936856</td>\n",
       "      <td>@jmy143 I've never seen that....heard it's goo...</td>\n",
       "      <td>2022-09-27 02:06:34+00:00</td>\n",
       "      <td>en</td>\n",
       "    </tr>\n",
       "    <tr>\n",
       "      <th>9999</th>\n",
       "      <td>1396113810390347780</td>\n",
       "      <td>RT @97bedanasib: 220925 SEVENTEEN BE THE SUN I...</td>\n",
       "      <td>2022-09-27 02:06:34+00:00</td>\n",
       "      <td>en</td>\n",
       "    </tr>\n",
       "  </tbody>\n",
       "</table>\n",
       "<p>10000 rows × 4 columns</p>\n",
       "</div>"
      ],
      "text/plain": [
       "                author_id                                               text  \\\n",
       "0     1571666106166743042                                 @What_If_Truth Lol   \n",
       "1     1518454387026366465  #Paris World Challenge Cup: US shines in city ...   \n",
       "2               342321559  @KBBasement @RexChapman I guarantee his team (...   \n",
       "3               933356815  Check out this listing I just added to my #Pos...   \n",
       "4     1551710898275946506  RT @CuzzyNFT: Civitas Familia is the first NFT...   \n",
       "...                   ...                                                ...   \n",
       "9995  1027267079639101440  @SupaStarr_ I mean….🥴 idk how this tattoo woul...   \n",
       "9996             20875566  Remember, you purchase the parts for the car, ...   \n",
       "9997  1007718239298818054  RT @andrewspellman_: Big news coming from form...   \n",
       "9998           1967936856  @jmy143 I've never seen that....heard it's goo...   \n",
       "9999  1396113810390347780  RT @97bedanasib: 220925 SEVENTEEN BE THE SUN I...   \n",
       "\n",
       "                    created_at lang  \n",
       "0    2022-09-27 02:11:56+00:00  und  \n",
       "1    2022-09-27 02:11:56+00:00   en  \n",
       "2    2022-09-27 02:11:56+00:00   en  \n",
       "3    2022-09-27 02:11:56+00:00   en  \n",
       "4    2022-09-27 02:11:56+00:00   en  \n",
       "...                        ...  ...  \n",
       "9995 2022-09-27 02:06:34+00:00   en  \n",
       "9996 2022-09-27 02:06:34+00:00   en  \n",
       "9997 2022-09-27 02:06:34+00:00   en  \n",
       "9998 2022-09-27 02:06:34+00:00   en  \n",
       "9999 2022-09-27 02:06:34+00:00   en  \n",
       "\n",
       "[10000 rows x 4 columns]"
      ]
     },
     "execution_count": 114,
     "metadata": {},
     "output_type": "execute_result"
    }
   ],
   "source": [
    "total_number_tweets_to_get = 10000\n",
    "tweet_fields = ['author_id','text', 'created_at', 'lang']\n",
    "\n",
    "## get tweets data by using defined search function and parameters\n",
    "df_tweets = search_twitter(query, total_number_tweets_to_get, tweet_fields, bearer_token = bearer_token)\n",
    "\n",
    "df_tweets"
   ]
  },
  {
   "cell_type": "code",
   "execution_count": 116,
   "metadata": {},
   "outputs": [],
   "source": [
    "df_raw = pd.DataFrame(df_tweets)\n",
    "df_raw.to_csv(\"../Part 2/raw_data\")"
   ]
  }
 ],
 "metadata": {
  "kernelspec": {
   "display_name": "Python 3.10.4 ('ANLY501')",
   "language": "python",
   "name": "python3"
  },
  "language_info": {
   "codemirror_mode": {
    "name": "ipython",
    "version": 3
   },
   "file_extension": ".py",
   "mimetype": "text/x-python",
   "name": "python",
   "nbconvert_exporter": "python",
   "pygments_lexer": "ipython3",
   "version": "3.10.4"
  },
  "orig_nbformat": 4,
  "vscode": {
   "interpreter": {
    "hash": "1528cb794c2ea60722ec750617a38b57d173476299c9bee806222619cbd1865e"
   }
  }
 },
 "nbformat": 4,
 "nbformat_minor": 2
}
