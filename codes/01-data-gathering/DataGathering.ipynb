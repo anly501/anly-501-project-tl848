{
 "cells": [
  {
   "cell_type": "code",
   "execution_count": 2,
   "metadata": {},
   "outputs": [],
   "source": [
    "import sys\n",
    "import operator\n",
    "import requests\n",
    "import json\n",
    "import twitter\n",
    "import pandas as pd\n",
    "import tweepy\n",
    "import configparser\n",
    "import os"
   ]
  },
  {
   "cell_type": "code",
   "execution_count": 2,
   "metadata": {},
   "outputs": [],
   "source": [
    "config = configparser.ConfigParser()\n",
    "config.read('/Users/lutianshu/Downloads/config.ini')\n",
    "\n",
    "consumer_key = config['twitter']['api_key']\n",
    "consumer_key_secret = config['twitter']['api_key_secret']\n",
    "\n",
    "access_token = config['twitter']['access_token']\n",
    "access_token_secret = config['twitter']['access_token_secret']\n",
    "\n",
    "bearer_token = os.environ['TOKEN'] = 'AAAAAAAAAAAAAAAAAAAAAISeXgEAAAAANwEgP0gtkLS%2Bjv9qCa3pIB3o1xs%3D98KYFXJI2DYHslg3StyrI2h9aB0w8PYq8iJyGS6Vdwsrhgkt7r'\n"
   ]
  },
  {
   "cell_type": "code",
   "execution_count": 3,
   "metadata": {},
   "outputs": [],
   "source": [
    "auth = tweepy.OAuthHandler(consumer_key, consumer_key_secret)\n",
    "auth.set_access_token(access_token, access_token_secret)\n",
    "api = tweepy.API(auth)  "
   ]
  },
  {
   "cell_type": "code",
   "execution_count": 5,
   "metadata": {},
   "outputs": [],
   "source": [
    "def search_twitter(query, max_results, tweet_fields, bearer_token = bearer_token):\n",
    "    headers = {\"Authorization\": \"Bearer {}\".format(bearer_token)}\n",
    "\n",
    "    url = \"https://api.twitter.com/2/tweets/search/recent?query={}&{}\".format(query, tweet_fields)\n",
    "    \n",
    "    print(\"--------------\",url,\"--------------\")\n",
    "    response = requests.request(\"GET\", url, headers=headers)\n",
    "    #print(response.status_code)\n",
    "    # print(response.text)\n",
    "\n",
    "    if response.status_code != 200:\n",
    "        raise Exception(response.status_code, response.text)\n",
    "    return response.json()"
   ]
  },
  {
   "cell_type": "code",
   "execution_count": 6,
   "metadata": {},
   "outputs": [
    {
     "name": "stdout",
     "output_type": "stream",
     "text": [
      "-------------- https://api.twitter.com/2/tweets/search/recent?query=League of Legends&tweet.fields=text,author_id,created_at --------------\n"
     ]
    }
   ],
   "source": [
    "json_response = search_twitter(query=\"League of Legends\", max_results = 250, tweet_fields=\"tweet.fields=text,author_id,created_at\", bearer_token=bearer_token)\n"
   ]
  },
  {
   "cell_type": "code",
   "execution_count": 8,
   "metadata": {},
   "outputs": [],
   "source": [
    "tweet_fields = \"tweet.fields=text,author_id,created_at,lang\""
   ]
  },
  {
   "cell_type": "code",
   "execution_count": 9,
   "metadata": {},
   "outputs": [
    {
     "name": "stdout",
     "output_type": "stream",
     "text": [
      "-------------- https://api.twitter.com/2/tweets/search/recent?query=League of Legends&tweet.fields=text,author_id,created_at,lang --------------\n",
      "-------------- https://api.twitter.com/2/tweets/search/recent?query=League of Legends&tweet.fields=text,author_id,created_at,lang --------------\n",
      "-------------- https://api.twitter.com/2/tweets/search/recent?query=League of Legends&tweet.fields=text,author_id,created_at,lang --------------\n",
      "-------------- https://api.twitter.com/2/tweets/search/recent?query=League of Legends&tweet.fields=text,author_id,created_at,lang --------------\n",
      "-------------- https://api.twitter.com/2/tweets/search/recent?query=League of Legends&tweet.fields=text,author_id,created_at,lang --------------\n",
      "-------------- https://api.twitter.com/2/tweets/search/recent?query=League of Legends&tweet.fields=text,author_id,created_at,lang --------------\n",
      "-------------- https://api.twitter.com/2/tweets/search/recent?query=Rank&tweet.fields=text,author_id,created_at,lang --------------\n",
      "-------------- https://api.twitter.com/2/tweets/search/recent?query=Rank&tweet.fields=text,author_id,created_at,lang --------------\n",
      "-------------- https://api.twitter.com/2/tweets/search/recent?query=Rank&tweet.fields=text,author_id,created_at,lang --------------\n",
      "-------------- https://api.twitter.com/2/tweets/search/recent?query=Rank&tweet.fields=text,author_id,created_at,lang --------------\n",
      "-------------- https://api.twitter.com/2/tweets/search/recent?query=Rank&tweet.fields=text,author_id,created_at,lang --------------\n",
      "-------------- https://api.twitter.com/2/tweets/search/recent?query=Rank&tweet.fields=text,author_id,created_at,lang --------------\n",
      "-------------- https://api.twitter.com/2/tweets/search/recent?query=win rate&tweet.fields=text,author_id,created_at,lang --------------\n",
      "-------------- https://api.twitter.com/2/tweets/search/recent?query=win rate&tweet.fields=text,author_id,created_at,lang --------------\n",
      "-------------- https://api.twitter.com/2/tweets/search/recent?query=win rate&tweet.fields=text,author_id,created_at,lang --------------\n",
      "-------------- https://api.twitter.com/2/tweets/search/recent?query=win rate&tweet.fields=text,author_id,created_at,lang --------------\n",
      "-------------- https://api.twitter.com/2/tweets/search/recent?query=win rate&tweet.fields=text,author_id,created_at,lang --------------\n",
      "-------------- https://api.twitter.com/2/tweets/search/recent?query=win rate&tweet.fields=text,author_id,created_at,lang --------------\n",
      "-------------- https://api.twitter.com/2/tweets/search/recent?query=usage&tweet.fields=text,author_id,created_at,lang --------------\n",
      "-------------- https://api.twitter.com/2/tweets/search/recent?query=usage&tweet.fields=text,author_id,created_at,lang --------------\n",
      "-------------- https://api.twitter.com/2/tweets/search/recent?query=usage&tweet.fields=text,author_id,created_at,lang --------------\n",
      "-------------- https://api.twitter.com/2/tweets/search/recent?query=usage&tweet.fields=text,author_id,created_at,lang --------------\n",
      "-------------- https://api.twitter.com/2/tweets/search/recent?query=usage&tweet.fields=text,author_id,created_at,lang --------------\n",
      "-------------- https://api.twitter.com/2/tweets/search/recent?query=usage&tweet.fields=text,author_id,created_at,lang --------------\n",
      "-------------- https://api.twitter.com/2/tweets/search/recent?query=gold&tweet.fields=text,author_id,created_at,lang --------------\n",
      "-------------- https://api.twitter.com/2/tweets/search/recent?query=gold&tweet.fields=text,author_id,created_at,lang --------------\n",
      "-------------- https://api.twitter.com/2/tweets/search/recent?query=gold&tweet.fields=text,author_id,created_at,lang --------------\n",
      "-------------- https://api.twitter.com/2/tweets/search/recent?query=gold&tweet.fields=text,author_id,created_at,lang --------------\n",
      "-------------- https://api.twitter.com/2/tweets/search/recent?query=gold&tweet.fields=text,author_id,created_at,lang --------------\n",
      "-------------- https://api.twitter.com/2/tweets/search/recent?query=gold&tweet.fields=text,author_id,created_at,lang --------------\n",
      "-------------- https://api.twitter.com/2/tweets/search/recent?query=KDA&tweet.fields=text,author_id,created_at,lang --------------\n",
      "-------------- https://api.twitter.com/2/tweets/search/recent?query=KDA&tweet.fields=text,author_id,created_at,lang --------------\n",
      "-------------- https://api.twitter.com/2/tweets/search/recent?query=KDA&tweet.fields=text,author_id,created_at,lang --------------\n",
      "-------------- https://api.twitter.com/2/tweets/search/recent?query=KDA&tweet.fields=text,author_id,created_at,lang --------------\n",
      "-------------- https://api.twitter.com/2/tweets/search/recent?query=KDA&tweet.fields=text,author_id,created_at,lang --------------\n",
      "-------------- https://api.twitter.com/2/tweets/search/recent?query=KDA&tweet.fields=text,author_id,created_at,lang --------------\n"
     ]
    }
   ],
   "source": [
    "data = \"/Users/lutianshu/Desktop/ANLY501\"\n",
    "search_tweets = ['League of Legends','Rank','win rate','usage','gold','KDA']\n",
    "for idx,val in enumerate(search_tweets):\n",
    "    tweets_jsondump = []\n",
    "    json_response1 = search_twitter(query = str(val), max_results = 100, tweet_fields = tweet_fields, bearer_token=bearer_token)\n",
    "    json_response2 = search_twitter(query = str(val), max_results = 100, tweet_fields = tweet_fields, bearer_token=bearer_token)\n",
    "    json_response3 = search_twitter(query = str(val), max_results = 100, tweet_fields = tweet_fields, bearer_token=bearer_token)\n",
    "    json_response4 = search_twitter(query = str(val), max_results = 100, tweet_fields = tweet_fields, bearer_token=bearer_token)\n",
    "    json_response5 = search_twitter(query = str(val), max_results = 100, tweet_fields = tweet_fields, bearer_token=bearer_token)\n",
    "    json_response6 = search_twitter(query = str(val), max_results = 100, tweet_fields = tweet_fields, bearer_token=bearer_token)\n",
    "    for i in json_response1['data']:\n",
    "        tweets_jsondump.append(i)\n",
    "    for i in json_response2['data']:\n",
    "        tweets_jsondump.append(i)\n",
    "    for i in json_response3['data']:\n",
    "        tweets_jsondump.append(i)\n",
    "    with open(data+str(val)+'.json','w') as json_file:\n",
    "        json.dump(tweets_jsondump,json_file)\n",
    "        json_file.close()"
   ]
  }
 ],
 "metadata": {
  "interpreter": {
   "hash": "a3dd95948780f32865fe0f50615b6b18fd8f2b49d5b535452b46ee200fe7961e"
  },
  "kernelspec": {
   "display_name": "Python 3.9.12 ('base')",
   "language": "python",
   "name": "python3"
  },
  "language_info": {
   "codemirror_mode": {
    "name": "ipython",
    "version": 3
   },
   "file_extension": ".py",
   "mimetype": "text/x-python",
   "name": "python",
   "nbconvert_exporter": "python",
   "pygments_lexer": "ipython3",
   "version": "3.9.12"
  },
  "orig_nbformat": 4
 },
 "nbformat": 4,
 "nbformat_minor": 2
}
